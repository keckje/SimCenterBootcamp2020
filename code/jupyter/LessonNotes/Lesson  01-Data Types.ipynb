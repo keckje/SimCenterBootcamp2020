{
 "cells": [
  {
   "cell_type": "markdown",
   "metadata": {},
   "source": [
    "# A Python Quick Start Tutorial\n",
    "# Lesson \\#1: Basic data types and functions\n",
    "## by Peter Mackenzie-Helnwein\n",
    "University of Washington, Seattle, WA\n",
    "\n",
    "pmackenz@uw.edu          \n",
    "https://www.ce.washington.edu/facultyfinder/peter-mackenzie-helnwein"
   ]
  },
  {
   "cell_type": "markdown",
   "metadata": {},
   "source": [
    "## Resources\n",
    "\n",
    "   1. Python Docs: https://docs.python.org/3/\n",
    "   \n",
    "   1. Python Tutorial (comprehensive): https://docs.python.org/3/tutorial/index.html\n",
    "   \n",
    "   1. Python Library Reference (the nitty-gritty details): https://docs.python.org/3/library/index.html\n",
    "   \n",
    "   1. Everything else: http://google.com\n",
    "   "
   ]
  },
  {
   "cell_type": "markdown",
   "metadata": {},
   "source": [
    "## Discussing questions from the self-study assignment\n",
    "\n",
    "This section is to discuss your questions\n"
   ]
  },
  {
   "cell_type": "markdown",
   "metadata": {},
   "source": [
    "### Exercise 1\n",
    "\n",
    "**Theory**:\n",
    "Stress transformation\n",
    "\n",
    "$$\n",
    "\\begin{aligned}\n",
    "\\sigma_{x}' &= \\sigma_{x} \\cos^2\\theta + \\sigma_{y} \\sin^2\\theta + 2\\tau_{xy} \\sin\\theta \\cos\\theta \\\\\n",
    "\\sigma_{y}' &= \\sigma_{x} \\sin^2\\theta + \\sigma_{y} \\cos^2\\theta - 2\\tau_{xy} \\sin\\theta \\cos\\theta \\\\\n",
    "\\tau_{xy}'  &= (\\sigma_{y} - \\sigma_{x}) \\sin\\theta \\cos\\theta + \\tau_{xy} (\\cos^2\\theta - \\sin^2\\theta) \\\\\n",
    "\\end{aligned}\n",
    "$$\n",
    "\n",
    "**Given**:\n",
    "Stress state:\n",
    "\n",
    "$$\n",
    "\\sigma_{x} = 12~ksi~,\n",
    "~~~\n",
    "\\sigma_{y} = -5.5~ksi~,\n",
    "~~~\n",
    "\\tau_{xy} = 3.5~ksi \n",
    "$$\n",
    "\n",
    "**Find**:\n",
    "Components of stress in a rotated coordinate system for $\\theta=25^\\circ$."
   ]
  },
  {
   "cell_type": "code",
   "execution_count": 2,
   "metadata": {},
   "outputs": [],
   "source": [
    "# theta needs to be in radians\n",
    "# sin and cos are not part of phython\n",
    "\n",
    "from math import sin, cos, pi, radians"
   ]
  },
  {
   "cell_type": "code",
   "execution_count": 3,
   "metadata": {},
   "outputs": [
    {
     "data": {
      "text/plain": [
       "1.5707963267948966"
      ]
     },
     "execution_count": 3,
     "metadata": {},
     "output_type": "execute_result"
    }
   ],
   "source": [
    "radians(90)"
   ]
  },
  {
   "cell_type": "code",
   "execution_count": 4,
   "metadata": {},
   "outputs": [],
   "source": [
    "theta  = radians(25)\n",
    "sigx = 12\n",
    "sigy = -5.5\n",
    "tauxy = 3.5\n",
    "\n",
    "sigxp = sigx*cos(theta)**2 + sigy*sin(theta)**2 + 2*tauxy*sin(theta)*cos(theta)\n",
    "sigyp = sigx*sin(theta)**2 + sigy*cos(theta)**2 - 2*tauxy*sin(theta)*cos(theta)\n",
    "taoxyp = (sigx-sigy)*sin(theta)*cos(theta) + tauxy*(cos(theta)**2 - sin(theta)**2)"
   ]
  },
  {
   "cell_type": "code",
   "execution_count": 5,
   "metadata": {},
   "outputs": [
    {
     "name": "stdout",
     "output_type": "stream",
     "text": [
      "sigma_x, sigma_y =      11.5555      -5.0555 ksi\n"
     ]
    }
   ],
   "source": [
    "print(\"sigma_x, sigma_y = {:12.4f} {:12.4f} ksi\".format(sigxp, sigyp))"
   ]
  },
  {
   "cell_type": "code",
   "execution_count": null,
   "metadata": {},
   "outputs": [],
   "source": []
  },
  {
   "cell_type": "code",
   "execution_count": null,
   "metadata": {},
   "outputs": [],
   "source": []
  },
  {
   "cell_type": "markdown",
   "metadata": {},
   "source": [
    "### Exercise 2\n",
    "\n",
    "Convert the calculation from exercise 1 to a function"
   ]
  },
  {
   "cell_type": "code",
   "execution_count": 6,
   "metadata": {},
   "outputs": [],
   "source": [
    "def stressTransform(sigx, sigy, tauxy, theta):\n",
    "    sigxp = sigx*cos(theta)**2 + sigy*sin(theta)**2 + 2*tauxy*sin(theta)*cos(theta)\n",
    "    sigyp = sigx*sin(theta)**2 + sigy*cos(theta)**2 - 2*tauxy*sin(theta)*cos(theta)\n",
    "    taoxyp = (sigx-sigy)*sin(theta)*cos(theta) + tauxy*(cos(theta)**2 - sin(theta)**2)\n",
    "    \n",
    "    return (sigxp,sigyp,taoxyp)"
   ]
  },
  {
   "cell_type": "markdown",
   "metadata": {},
   "source": [
    "Test your function for \n",
    "\n",
    "* $\\theta=0$ (what should the result look like?)\n",
    "* $\\theta=25^\\circ$\n",
    "* $\\theta=180^\\circ$"
   ]
  },
  {
   "cell_type": "code",
   "execution_count": 7,
   "metadata": {},
   "outputs": [],
   "source": [
    "stress = stressTransform(sigx, sigy, tauxy, theta=25)"
   ]
  },
  {
   "cell_type": "code",
   "execution_count": 8,
   "metadata": {},
   "outputs": [
    {
     "name": "stdout",
     "output_type": "stream",
     "text": [
      "sig_x =  10.7751 ksi\n",
      "sig_y =  -4.2751 ksi\n",
      "tau =   1.0816 ksi \n"
     ]
    }
   ],
   "source": [
    "print(\"sig_x = {:8.4f} ksi\\nsig_y = {:8.4f} ksi\\ntau = {:8.4f} ksi \".format(*stress))#format(stress[0],stress[1],stress[2])) #format(*stress)"
   ]
  },
  {
   "cell_type": "markdown",
   "metadata": {},
   "source": [
    "### Exercise 3\n",
    "\n",
    "Let's use this function to study stress transformation.  In order to do so,\n",
    "\n",
    "1. Create a list of 81 evenly spaced $\\theta$-values from $0^\\circ$ to $180^\\circ$.\n",
    "2. Compute the transformed stress for each of these values and collect the results in three lists: \n",
    "\n",
    "       sigmax_values = ...\n",
    "       sigmay_values = ...\n",
    "       tauxy_values = ...\n",
    "\n",
    "3. print a nice table with 4 columns: $\\theta$, $\\sigma_x'$, $\\sigma_y'$, $\\tau_{xy}'$"
   ]
  },
  {
   "cell_type": "code",
   "execution_count": 9,
   "metadata": {},
   "outputs": [
    {
     "name": "stdout",
     "output_type": "stream",
     "text": [
      "    0.000000,    12.000000,    -5.500000,     3.500000,\n",
      "    2.250000,    -2.015819,     8.515819,    -9.291174,\n",
      "    4.500000,    -3.279975,     9.779975,     0.417081,\n",
      "    6.750000,    11.268801,    -4.768801,     9.115336,\n",
      "    9.000000,     6.399316,     0.100684,    -4.260030,\n",
      "   11.250000,    -6.096526,    12.596526,    -7.319343,\n",
      "   13.500000,     4.041101,     2.458899,     7.345804,\n",
      "   15.750000,    12.263005,    -5.763005,     4.222414,\n",
      "   18.000000,    -1.340908,     7.840908,    -9.125938,\n",
      "   20.250000,    -3.827516,    10.327516,    -0.374995,\n",
      "   22.500000,    10.824730,    -4.324730,     9.284033,\n",
      "   24.750000,     7.134074,    -0.634074,    -3.539075,\n",
      "   27.000000,    -5.962223,    12.462223,    -7.791989,\n",
      "   29.250000,     3.249722,     3.250278,     6.824112,\n",
      "   31.500000,    12.462340,    -5.962340,     4.915000,\n",
      "   33.750000,    -0.633567,     7.133567,    -8.896235,\n",
      "   36.000000,    -4.325061,    10.825061,    -1.164423,\n",
      "   38.250000,    10.327149,    -3.827149,     9.387145,\n",
      "   40.500000,     7.841394,    -1.341394,    -2.793119,\n",
      "   42.750000,    -5.762842,    12.262842,    -8.209590,\n",
      "   45.000000,     2.458344,     4.041656,     6.254213,\n",
      "   47.250000,    12.596598,    -6.096598,     5.572866,\n",
      "   49.500000,     0.101209,     6.398791,    -8.603687,\n",
      "   51.750000,    -4.769094,    11.269094,    -1.945624,\n",
      "   54.000000,     9.779574,    -3.279574,     9.423946,\n",
      "   56.250000,     8.516280,    -2.016280,    -2.027432,\n",
      "   58.500000,    -5.499793,    11.999793,    -8.569197,\n",
      "   60.750000,     1.672559,     4.827441,     5.640134,\n",
      "   63.000000,    12.664829,    -6.164829,     6.191364,\n",
      "   65.250000,     0.858228,     5.641772,    -8.250361,\n",
      "   67.500000,    -5.156478,    11.656478,    -2.713081,\n",
      "   69.750000,     9.185872,    -2.685872,     9.394173,\n",
      "   72.000000,     9.153964,    -2.653964,    -1.247423,\n",
      "   74.250000,    -5.174934,    11.674934,    -8.868270,\n",
      "   76.500000,     0.897917,     5.602083,     4.986211,\n",
      "   78.750000,    12.666553,    -6.166553,     6.766125,\n",
      "   81.000000,     1.632143,     4.867857,    -7.838753,\n",
      "   83.250000,    -5.484478,    11.984478,    -3.461373,\n",
      "   85.500000,     8.550239,    -2.050239,     9.298039,\n",
      "   87.750000,     9.749941,    -3.249941,    -0.458602,\n",
      "   90.000000,    -4.790560,    11.290560,    -9.104696,\n",
      "   92.250000,     0.139891,     6.360109,     4.297065,\n",
      "   94.500000,    12.601756,    -6.101756,     7.293089,\n",
      "   96.750000,     2.417487,     4.082513,    -7.371770,\n",
      "   99.000000,    -5.750775,    12.250775,    -4.185213,\n",
      "  101.250000,     7.877164,    -1.377164,     9.136221,\n",
      "  103.500000,    10.300002,    -3.800002,     0.333459,\n",
      "  105.750000,    -4.349385,    10.849385,    -9.276804,\n",
      "  108.000000,    -0.596165,     7.096165,     3.577564,\n",
      "  110.250000,    12.470896,    -5.970896,     7.768533,\n",
      "  112.500000,     3.208712,     3.291288,    -6.852712,\n",
      "  114.750000,    -5.953490,    12.453490,    -4.879487,\n",
      "  117.000000,     7.171402,    -0.671402,     8.909863,\n",
      "  119.250000,    10.800260,    -4.300260,     1.123164,\n",
      "  121.500000,    -3.854528,    10.354528,    -9.383380,\n",
      "  123.750000,    -1.305051,     7.805051,     2.832790,\n",
      "  126.000000,    12.274899,    -5.774899,     8.189099,\n",
      "  128.250000,     4.000229,     2.499771,    -6.285246,\n",
      "  130.500000,    -6.091189,    12.591189,    -5.539292,\n",
      "  132.750000,     6.437938,     0.062062,     8.620565,\n",
      "  135.000000,    11.247181,    -4.747181,     1.904935,\n",
      "  137.250000,    -3.309482,     9.809482,    -9.423669,\n",
      "  139.500000,    -1.981759,     8.481759,     2.068005,\n",
      "  141.750000,    12.015148,    -5.515148,     8.551816,\n",
      "  144.000000,     4.786446,     1.713554,    -5.673379,\n",
      "  146.250000,    -6.162900,    12.662900,    -6.159967,\n",
      "  148.500000,     5.681954,     0.818046,     8.270369,\n",
      "  150.750000,    11.637609,    -5.137609,     2.673249,\n",
      "  153.000000,    -2.718099,     9.218099,    -9.397388,\n",
      "  155.250000,    -2.621509,     9.121509,     1.288611,\n",
      "  157.500000,    11.693478,    -5.193478,     8.854121,\n",
      "  159.750000,     5.561809,     0.938191,    -5.021434,\n",
      "  162.000000,    -6.168117,    12.668117,    -6.737126,\n",
      "  164.250000,     4.908790,     1.591210,     7.861750,\n",
      "  166.500000,    11.968785,    -5.468785,     3.422679,\n",
      "  168.750000,    -2.084557,     8.584557,    -9.304722,\n",
      "  171.000000,    -3.219781,     9.719781,     0.500114,\n",
      "  173.250000,    11.312162,    -4.812162,     9.093878,\n",
      "  175.500000,     6.320842,     0.179158,    -4.334017,\n",
      "  177.750000,    -6.106803,    12.606803,    -7.266693,\n",
      "  180.000000,     4.123908,     2.376092,     7.397594,\n"
     ]
    }
   ],
   "source": [
    "import numpy as np\n",
    "#import pandas as pd\n",
    "\n",
    "theta =[]\n",
    "sigmax_values = []\n",
    "sigmay_values = []\n",
    "tauxy_values = []\n",
    "\n",
    "for i in range(81):\n",
    "    th = i*180/80;\n",
    "    \n",
    "    theta.append(th)\n",
    "    (sx,sy,tau) = stressTransform(sigx, sigy, tauxy, th)\n",
    "    sigmax_values.append(sx)\n",
    "    sigmay_values.append(sy)\n",
    "    tauxy_values.append(tau)\n",
    "\n",
    "#theteL_s.apply(stressTransform(sigx, sigy, tauxy, theta=thetaL)\n",
    "\n",
    "for item in zip(theta, sigmax_values, sigmay_values, tauxy_values):\n",
    "    print(\"{:12.6f}, {:12.6f}, {:12.6f}, {:12.6f},\".format(*item))"
   ]
  },
  {
   "cell_type": "code",
   "execution_count": null,
   "metadata": {},
   "outputs": [],
   "source": [
    "# version two: use pandas to apply function to a dataframe\n"
   ]
  },
  {
   "cell_type": "markdown",
   "metadata": {},
   "source": [
    "### Exercise 4: Explore plotting in python\n",
    "\n",
    "For this, check out https://matplotlib.org/3.1.1/gallery/lines_bars_and_markers/simple_plot.html#sphx-glr-gallery-lines-bars-and-markers-simple-plot-py\n",
    "\n",
    "I copied the demo code below so you can modify it to plot $(\\sigma_{x}'/\\tau_{xy}')$ and  $(\\sigma_{y}'/-\\tau_{xy}')$ curves from the data collected in `sigmax_values`, `sigmay_values`, `tauxy_values`"
   ]
  },
  {
   "cell_type": "code",
   "execution_count": null,
   "metadata": {},
   "outputs": [],
   "source": [
    "import matplotlib\n",
    "import matplotlib.pyplot as plt\n",
    "import numpy as np\n",
    "\n",
    "# Data for plotting\n",
    "t = np.arange(0.0, 2.0, 0.01)\n",
    "s = 1 + np.sin(2 * np.pi * t)\n",
    "\n",
    "fig, ax = plt.subplots()\n",
    "ax.plot(t, s)\n",
    "\n",
    "ax.set(xlabel='time (s)', ylabel='voltage (mV)',\n",
    "       title='About as simple as it gets, folks')\n",
    "ax.grid()\n",
    "\n",
    "# I comment writing the figure to file ... makes this quicker\n",
    "# fig.savefig(\"test.png\")\n",
    "plt.show()"
   ]
  },
  {
   "cell_type": "markdown",
   "metadata": {},
   "source": [
    "**Remark**: This was just to wet your appetite! We will talk much more about `numpy` and `matplotlib` next week."
   ]
  },
  {
   "cell_type": "markdown",
   "metadata": {},
   "source": [
    "## Exercise 5: List versus dictionary\n",
    "\n",
    "You could express the stress state as\n",
    "\n",
    "1. three independent variables - the way we did it thus far\n",
    "\n",
    "2. a list of three values: `stress = `$[\\sigma_x, \\sigma_y, \\tau_{xy}]$ and replace\n",
    "\n",
    "        sigma_x --> stress[0]\n",
    "        sigma_y --> stress[2]\n",
    "        tau_xy  --> stress[3]\n",
    "        \n",
    "3. a dictionary \n",
    "\n",
    "        stress = {'sigx': 12.0, 'sigy': -5.5, 'tau':3.50}\n",
    "        \n",
    "   and replace\n",
    "\n",
    "        sigma_x --> stress['sigx']\n",
    "        sigma_y --> stress['sigy']\n",
    "        tau_xy  --> stress['tau']\n",
    "\n",
    "**Discuss**:\n",
    "\n",
    "1. Pros and cons for coding the equations\n",
    "2. Pros and cons for coding the function(s)\n",
    "3. How woud code and function change when switching from 2D to 3D (6 components instead of 3 components)\n",
    "\n",
    "Feel free to implement an alternative form of stressTrannsform() that looks like this:"
   ]
  },
  {
   "cell_type": "code",
   "execution_count": null,
   "metadata": {},
   "outputs": [],
   "source": [
    "def stressTransform(stress, theta):\n",
    "    # YOUR CODE\n",
    "    # stress2 is a list or dictionary, just as stress is\n",
    "    \n",
    "    return stress2"
   ]
  },
  {
   "cell_type": "code",
   "execution_count": null,
   "metadata": {},
   "outputs": [],
   "source": []
  },
  {
   "cell_type": "markdown",
   "metadata": {},
   "source": [
    "## Homework questions\n",
    "\n",
    "We can all learn from your questions!"
   ]
  },
  {
   "cell_type": "code",
   "execution_count": null,
   "metadata": {},
   "outputs": [],
   "source": []
  }
 ],
 "metadata": {
  "kernelspec": {
   "display_name": "Python 3",
   "language": "python",
   "name": "python3"
  },
  "language_info": {
   "codemirror_mode": {
    "name": "ipython",
    "version": 3
   },
   "file_extension": ".py",
   "mimetype": "text/x-python",
   "name": "python",
   "nbconvert_exporter": "python",
   "pygments_lexer": "ipython3",
   "version": "3.9.1"
  }
 },
 "nbformat": 4,
 "nbformat_minor": 4
}
